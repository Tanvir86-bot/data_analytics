{
  "nbformat": 4,
  "nbformat_minor": 0,
  "metadata": {
    "colab": {
      "name": "Mini_Projects",
      "provenance": [],
      "authorship_tag": "ABX9TyNSS2P9B1mvvdpHMu8bKuH2",
      "include_colab_link": true
    },
    "kernelspec": {
      "name": "python3",
      "display_name": "Python 3"
    }
  },
  "cells": [
    {
      "cell_type": "markdown",
      "metadata": {
        "id": "view-in-github",
        "colab_type": "text"
      },
      "source": [
        "<a href=\"https://colab.research.google.com/github/Tanvir86-bot/data_analytics/blob/main/Mini_Projects.ipynb\" target=\"_parent\"><img src=\"https://colab.research.google.com/assets/colab-badge.svg\" alt=\"Open In Colab\"/></a>"
      ]
    },
    {
      "cell_type": "markdown",
      "metadata": {
        "id": "UoKfpszqFQme"
      },
      "source": [
        "**# MINI PROJECT 1**\n",
        "## Tanvir Alam\n",
        "### January 11, 2021\n",
        "#### This project uses input from the user to calculate if the integers are even or odd\n",
        "\n",
        "\n",
        "\n",
        "\n",
        "\n",
        "\n",
        "\n",
        "\n",
        "\n"
      ]
    },
    {
      "cell_type": "code",
      "metadata": {
        "id": "Y9rKSPDWTcXM",
        "colab": {
          "base_uri": "https://localhost:8080/"
        },
        "outputId": "193c86ba-57bc-4596-a2dd-2f87e61e2db4"
      },
      "source": [
        "print(\"sums of odd and even numbers\")\n",
        "print()"
      ],
      "execution_count": 28,
      "outputs": [
        {
          "output_type": "stream",
          "text": [
            "sums of odd and even numbers\n",
            "\n"
          ],
          "name": "stdout"
        }
      ]
    },
    {
      "cell_type": "code",
      "metadata": {
        "colab": {
          "base_uri": "https://localhost:8080/"
        },
        "id": "rijliCOJh-zT",
        "outputId": "6e7cf313-baf5-482f-ccf8-0905bc7b2166"
      },
      "source": [
        "#user input\n",
        "#First test: failure!\n",
        "num = int(input(\"Enter this interger: \"))\n",
        "#made a list combined with user input\n",
        "numbers = list(range(1, 11))\n",
        "print(numbers)\n",
        "numbers = list(range(10, 21, 2))\n",
        "print(numbers)\n",
        "numbers = list(range(20, 31, 1))\n",
        "print(numbers)\n",
        "#created conditions\n",
        "if int(num) % 2 == 0:\n",
        "  print('The number you input is an even')\n",
        "else:\n",
        "  print('The number you input is an odd')\n"
      ],
      "execution_count": 231,
      "outputs": [
        {
          "output_type": "stream",
          "text": [
            "Enter this interger: 4\n",
            "[1, 2, 3, 4, 5, 6, 7, 8, 9, 10]\n",
            "[10, 12, 14, 16, 18, 20]\n",
            "[20, 21, 22, 23, 24, 25, 26, 27, 28, 29, 30]\n",
            "The number you input is an even\n"
          ],
          "name": "stdout"
        }
      ]
    },
    {
      "cell_type": "code",
      "metadata": {
        "colab": {
          "base_uri": "https://localhost:8080/"
        },
        "id": "J6werTT0Uoox",
        "outputId": "e52f46eb-dc17-4f0f-d16d-0cb001b77b6e"
      },
      "source": [
        "# user_input\n",
        "##second test: success!\n",
        "num = int(input(\"Please enter a number: \"))\n",
        "print(num)\n",
        "if (num % 2) == 0:\n",
        "  print('The number you input is an even')\n",
        "if (num % 2) > 0:\n",
        "  print('The number you input is an odd')"
      ],
      "execution_count": 232,
      "outputs": [
        {
          "output_type": "stream",
          "text": [
            "Please enter a number: 13\n",
            "13\n",
            "The number you input is an odd\n"
          ],
          "name": "stdout"
        }
      ]
    },
    {
      "cell_type": "code",
      "metadata": {
        "colab": {
          "base_uri": "https://localhost:8080/"
        },
        "id": "dkW-q0wnaZT0",
        "outputId": "c652e7cc-aecc-4eb1-8fc1-ac40142a2389"
      },
      "source": [
        "#BONUS\n",
        "#checking if the number is a multiple of 4\n",
        "num = int(input(\"Enter a number: \"))\n",
        "\n",
        "if num % 4 == 0:\n",
        "    print(\"I am a multiple of 4\")\n",
        "if num % 4 != 0:\n",
        "  print(\"I am not a multiple of 4\")\n"
      ],
      "execution_count": 233,
      "outputs": [
        {
          "output_type": "stream",
          "text": [
            "Enter a number: 64\n",
            "I am a multiple of 4\n"
          ],
          "name": "stdout"
        }
      ]
    },
    {
      "cell_type": "code",
      "metadata": {
        "colab": {
          "base_uri": "https://localhost:8080/"
        },
        "id": "uZEWW-YtIoFy",
        "outputId": "0e95efb1-9317-473a-afb4-0f2da106d04f"
      },
      "source": [
        "#ask the user for two numbers\n",
        "num_1 = int(input(\"Enter the first number: \"))\n",
        "check = int(input(\"Enter the second number: \"))\n",
        "\n",
        "if num % check == 0:\n",
        "  print('The first number can be divided by the second number')\n",
        "else: \n",
        "  print('the first number cannnot be divided by the second number')"
      ],
      "execution_count": 223,
      "outputs": [
        {
          "output_type": "stream",
          "text": [
            "Enter the first number: 10\n",
            "Enter the second number: 2\n",
            "The first number can be divided by the second number\n"
          ],
          "name": "stdout"
        }
      ]
    },
    {
      "cell_type": "code",
      "metadata": {
        "colab": {
          "base_uri": "https://localhost:8080/"
        },
        "id": "MoSloAzcWO9i",
        "outputId": "e05403d1-55e5-43b6-ebc2-5df2313ce448"
      },
      "source": [
        "# A custom function: MAIN PROGRAM\n",
        "num_1 = int(input(\"Enter the first number: \"))\n",
        "check = int(input(\"Enter the second number: \"))\n",
        "#added greeting to introduce the fuctions\n",
        "def greeting(num_1 = 10, check = 2):\n",
        "  \"\"\"This will display if the interger even or odd\"\"\"\n",
        "print('the even number is: ', + num_1 )\n",
        "print('this is not a odd number: ', + check)\n",
        "\n",
        "greeting()"
      ],
      "execution_count": 99,
      "outputs": [
        {
          "output_type": "stream",
          "text": [
            "Enter the first number: 10\n",
            "Enter the second number: 2\n",
            "the even number is:  10\n",
            "this is not a odd number:  2\n"
          ],
          "name": "stdout"
        }
      ]
    },
    {
      "cell_type": "code",
      "metadata": {
        "id": "Cf_ZIf8VX8sI"
      },
      "source": [
        ""
      ],
      "execution_count": null,
      "outputs": []
    }
  ]
}